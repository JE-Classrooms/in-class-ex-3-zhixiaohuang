{
 "cells": [
  {
   "cell_type": "markdown",
   "metadata": {},
   "source": [
    "# In-class exercise 3\n",
    "\n",
    "**Author:**"
   ]
  },
  {
   "cell_type": "markdown",
   "metadata": {},
   "source": [
    "**Exercises:**\n",
    "\n",
    "1. Import the ```fifa23_players.csv``` table using Pandas\n",
    "\n",
    "2. Print the first first rows of all the columns in the table\n",
    "\n",
    "3. Print all the columns in the table using the method ```column```\n",
    "\n",
    "4. Check the data type for the columns in your data table\n",
    "\n",
    "5. Provide summary statistics for all the numerical variables in the table. What are the average age and the average potential for the players in the data table?\n",
    "\n",
    "6. What is the last name for the player with the highest potential in Fifa 23? Print the table you used to get the information."
   ]
  },
  {
   "cell_type": "code",
   "execution_count": null,
   "metadata": {},
   "outputs": [],
   "source": []
  }
 ],
 "metadata": {
  "kernelspec": {
   "display_name": "Python 3.9.0 ('multilayer')",
   "language": "python",
   "name": "python3"
  },
  "language_info": {
   "name": "python",
   "version": "3.9.0"
  },
  "orig_nbformat": 4,
  "vscode": {
   "interpreter": {
    "hash": "11838f79d2aaadbfa3a2adfaf35bacdebdb4e8d9b63957ddf298964812544a76"
   }
  }
 },
 "nbformat": 4,
 "nbformat_minor": 2
}
